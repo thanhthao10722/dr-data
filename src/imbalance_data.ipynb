{
 "cells": [
  {
   "cell_type": "code",
   "execution_count": 16,
   "metadata": {},
   "outputs": [],
   "source": [
    "import pandas as pd\n",
    "import os\n",
    "import cv2"
   ]
  },
  {
   "cell_type": "code",
   "execution_count": 17,
   "metadata": {},
   "outputs": [
    {
     "data": {
      "text/html": [
       "<div>\n",
       "<style scoped>\n",
       "    .dataframe tbody tr th:only-of-type {\n",
       "        vertical-align: middle;\n",
       "    }\n",
       "\n",
       "    .dataframe tbody tr th {\n",
       "        vertical-align: top;\n",
       "    }\n",
       "\n",
       "    .dataframe thead th {\n",
       "        text-align: right;\n",
       "    }\n",
       "</style>\n",
       "<table border=\"1\" class=\"dataframe\">\n",
       "  <thead>\n",
       "    <tr style=\"text-align: right;\">\n",
       "      <th></th>\n",
       "      <th>index</th>\n",
       "      <th>id_code</th>\n",
       "      <th>level</th>\n",
       "    </tr>\n",
       "  </thead>\n",
       "  <tbody>\n",
       "    <tr>\n",
       "      <th>0</th>\n",
       "      <td>2826</td>\n",
       "      <td>c3cd0200df79.png</td>\n",
       "      <td>3</td>\n",
       "    </tr>\n",
       "    <tr>\n",
       "      <th>1</th>\n",
       "      <td>7</td>\n",
       "      <td>00a8624548a9.png</td>\n",
       "      <td>2</td>\n",
       "    </tr>\n",
       "    <tr>\n",
       "      <th>2</th>\n",
       "      <td>1118</td>\n",
       "      <td>4ec7796df40e.png</td>\n",
       "      <td>0</td>\n",
       "    </tr>\n",
       "    <tr>\n",
       "      <th>3</th>\n",
       "      <td>2556</td>\n",
       "      <td>b0d35981708b.png</td>\n",
       "      <td>2</td>\n",
       "    </tr>\n",
       "    <tr>\n",
       "      <th>4</th>\n",
       "      <td>545</td>\n",
       "      <td>26cd40b57ad1.png</td>\n",
       "      <td>0</td>\n",
       "    </tr>\n",
       "    <tr>\n",
       "      <th>...</th>\n",
       "      <td>...</td>\n",
       "      <td>...</td>\n",
       "      <td>...</td>\n",
       "    </tr>\n",
       "    <tr>\n",
       "      <th>3657</th>\n",
       "      <td>1019</td>\n",
       "      <td>495106ae3b68.png</td>\n",
       "      <td>0</td>\n",
       "    </tr>\n",
       "    <tr>\n",
       "      <th>3658</th>\n",
       "      <td>1151</td>\n",
       "      <td>50d8a8fb7737.png</td>\n",
       "      <td>2</td>\n",
       "    </tr>\n",
       "    <tr>\n",
       "      <th>3659</th>\n",
       "      <td>3398</td>\n",
       "      <td>ebd96d853918.png</td>\n",
       "      <td>0</td>\n",
       "    </tr>\n",
       "    <tr>\n",
       "      <th>3660</th>\n",
       "      <td>2498</td>\n",
       "      <td>ad2f0b9d059c.png</td>\n",
       "      <td>3</td>\n",
       "    </tr>\n",
       "    <tr>\n",
       "      <th>3661</th>\n",
       "      <td>1237</td>\n",
       "      <td>55eb405ec71e.png</td>\n",
       "      <td>4</td>\n",
       "    </tr>\n",
       "  </tbody>\n",
       "</table>\n",
       "<p>3662 rows × 3 columns</p>\n",
       "</div>"
      ],
      "text/plain": [
       "      index           id_code  level\n",
       "0      2826  c3cd0200df79.png      3\n",
       "1         7  00a8624548a9.png      2\n",
       "2      1118  4ec7796df40e.png      0\n",
       "3      2556  b0d35981708b.png      2\n",
       "4       545  26cd40b57ad1.png      0\n",
       "...     ...               ...    ...\n",
       "3657   1019  495106ae3b68.png      0\n",
       "3658   1151  50d8a8fb7737.png      2\n",
       "3659   3398  ebd96d853918.png      0\n",
       "3660   2498  ad2f0b9d059c.png      3\n",
       "3661   1237  55eb405ec71e.png      4\n",
       "\n",
       "[3662 rows x 3 columns]"
      ]
     },
     "metadata": {},
     "output_type": "display_data"
    }
   ],
   "source": [
    "data = pd.read_csv('../raw/atops_train.csv')\n",
    "\n",
    "data = data.sample(frac = 1)\n",
    "data = data.loc[:, ~data.columns.str.contains('Unnamed')]\n",
    "data = data.reset_index()\n",
    "display(data)"
   ]
  },
  {
   "cell_type": "code",
   "execution_count": 18,
   "metadata": {},
   "outputs": [
    {
     "data": {
      "text/html": [
       "<div>\n",
       "<style scoped>\n",
       "    .dataframe tbody tr th:only-of-type {\n",
       "        vertical-align: middle;\n",
       "    }\n",
       "\n",
       "    .dataframe tbody tr th {\n",
       "        vertical-align: top;\n",
       "    }\n",
       "\n",
       "    .dataframe thead th {\n",
       "        text-align: right;\n",
       "    }\n",
       "</style>\n",
       "<table border=\"1\" class=\"dataframe\">\n",
       "  <thead>\n",
       "    <tr style=\"text-align: right;\">\n",
       "      <th></th>\n",
       "      <th>id_code</th>\n",
       "      <th>level</th>\n",
       "    </tr>\n",
       "  </thead>\n",
       "  <tbody>\n",
       "    <tr>\n",
       "      <th>0</th>\n",
       "      <td>c3cd0200df79.png</td>\n",
       "      <td>3</td>\n",
       "    </tr>\n",
       "    <tr>\n",
       "      <th>1</th>\n",
       "      <td>00a8624548a9.png</td>\n",
       "      <td>2</td>\n",
       "    </tr>\n",
       "    <tr>\n",
       "      <th>2</th>\n",
       "      <td>4ec7796df40e.png</td>\n",
       "      <td>0</td>\n",
       "    </tr>\n",
       "    <tr>\n",
       "      <th>3</th>\n",
       "      <td>b0d35981708b.png</td>\n",
       "      <td>2</td>\n",
       "    </tr>\n",
       "    <tr>\n",
       "      <th>4</th>\n",
       "      <td>26cd40b57ad1.png</td>\n",
       "      <td>0</td>\n",
       "    </tr>\n",
       "  </tbody>\n",
       "</table>\n",
       "</div>"
      ],
      "text/plain": [
       "            id_code  level\n",
       "0  c3cd0200df79.png      3\n",
       "1  00a8624548a9.png      2\n",
       "2  4ec7796df40e.png      0\n",
       "3  b0d35981708b.png      2\n",
       "4  26cd40b57ad1.png      0"
      ]
     },
     "metadata": {},
     "output_type": "display_data"
    },
    {
     "data": {
      "text/plain": [
       "500"
      ]
     },
     "metadata": {},
     "output_type": "display_data"
    },
    {
     "data": {
      "text/plain": [
       "812"
      ]
     },
     "metadata": {},
     "output_type": "display_data"
    }
   ],
   "source": [
    "train = data.head(2350)\n",
    "train = train.loc[:, ~train.columns.str.contains('index')]\n",
    "data = data.drop(train.index)\n",
    "\n",
    "val = data.head(500)\n",
    "val = val.loc[:, ~val.columns.str.contains('index')]\n",
    "data = data.drop(val.index)\n",
    "\n",
    "test = data\n",
    "test = test.loc[:, ~test.columns.str.contains('index')]\n",
    "\n",
    "test = test.reset_index()\n",
    "train = train.reset_index()\n",
    "val = val.reset_index()\n",
    "test = test.loc[:, ~test.columns.str.contains('index')]\n",
    "val = val.loc[:, ~val.columns.str.contains('index')]\n",
    "train = train.loc[:, ~train.columns.str.contains('index')]\n",
    "\n",
    "display(train.head())\n",
    "display(len(val))\n",
    "display(len(test))"
   ]
  },
  {
   "cell_type": "code",
   "execution_count": 19,
   "metadata": {},
   "outputs": [],
   "source": [
    "train.to_csv(\"../dataset/imbalance_train.csv\", index=None)\n",
    "test.to_csv(\"../dataset/imbalance_test.csv\", index=None)\n",
    "val.to_csv(\"../dataset/imbalance_val.csv\", index=None)\n"
   ]
  },
  {
   "cell_type": "code",
   "execution_count": null,
   "metadata": {},
   "outputs": [],
   "source": []
  },
  {
   "cell_type": "code",
   "execution_count": null,
   "metadata": {},
   "outputs": [],
   "source": []
  }
 ],
 "metadata": {
  "kernelspec": {
   "display_name": "Python 3",
   "language": "python",
   "name": "python3"
  },
  "language_info": {
   "codemirror_mode": {
    "name": "ipython",
    "version": 3
   },
   "file_extension": ".py",
   "mimetype": "text/x-python",
   "name": "python",
   "nbconvert_exporter": "python",
   "pygments_lexer": "ipython3",
   "version": "3.6.9"
  }
 },
 "nbformat": 4,
 "nbformat_minor": 4
}
